{
 "cells": [
  {
   "cell_type": "code",
   "execution_count": null,
   "metadata": {},
   "outputs": [],
   "source": [
    "import numpy as np\n",
    "import pandas as pd\n",
    "import matplotlib.pyplot as plt\n",
    "%matplotlib inline\n",
    "\n",
    "import seaborn as sns"
   ]
  },
  {
   "cell_type": "code",
   "execution_count": null,
   "metadata": {},
   "outputs": [],
   "source": [
    "from glob import glob"
   ]
  },
  {
   "cell_type": "code",
   "execution_count": null,
   "metadata": {},
   "outputs": [],
   "source": [
    "sns.set(style='whitegrid', palette='muted', font='serif')"
   ]
  },
  {
   "cell_type": "code",
   "execution_count": null,
   "metadata": {},
   "outputs": [],
   "source": [
    "dfs = []\n",
    "for fn in glob('../learningsys-2018-gpu-mux/p3-8xlarge-random-placement/**/*.pq', recursive=True):\n",
    "    df = pd.read_parquet(fn)\n",
    "    approach, model, proc, i  = fn.split(\"/\")[4:]\n",
    "    df['approach'] = approach\n",
    "    df['model'] = model\n",
    "    df['n_procs'] = int(proc)\n",
    "    df['proc'] = int(i.split('.')[0])\n",
    "    dfs.append(df)\n",
    "df = pd.concat(dfs)"
   ]
  },
  {
   "cell_type": "code",
   "execution_count": null,
   "metadata": {},
   "outputs": [],
   "source": [
    "# dfs = []\n",
    "# for fn in glob('learningsys-2018-gpu-mux/**/*.pq', recursive=True):\n",
    "#     df = pd.read_parquet(fn)\n",
    "#     _, _, approach, model, proc, i  = fn.split(\"/\")\n",
    "#     df['approach'] = approach\n",
    "#     df['model'] = model\n",
    "#     df['n_procs'] = int(proc)\n",
    "#     df['proc'] = int(i.split('.')[0])\n",
    "#     dfs.append(df)\n",
    "# df = pd.concat(dfs)"
   ]
  },
  {
   "cell_type": "code",
   "execution_count": null,
   "metadata": {},
   "outputs": [],
   "source": [
    "anomoly = df.groupby(\n",
    "    ['approach', 'model', 'n_procs', 'proc']\n",
    ")[['duration_ms']].mean().reset_index().groupby(\n",
    "    ['approach', 'model', 'n_procs'])[['duration_ms']].apply(lambda s: s.max() - s.min()).reset_index()"
   ]
  },
  {
   "cell_type": "code",
   "execution_count": null,
   "metadata": {},
   "outputs": [],
   "source": [
    "anomoly = anomoly[(anomoly['duration_ms']>0.1) & (anomoly['approach'] == 'mps')]"
   ]
  },
  {
   "cell_type": "code",
   "execution_count": null,
   "metadata": {},
   "outputs": [],
   "source": []
  },
  {
   "cell_type": "code",
   "execution_count": null,
   "metadata": {},
   "outputs": [],
   "source": [
    "plt.figure(figsize=(18,6))\n",
    "plt.subplot(1,3,1)\n",
    "sns.pointplot(x='n_procs', y='duration_ms', hue='model', data=anomoly)\n",
    "plt.axhline(0.1, label='0.1 lower bound')\n",
    "plt.legend()\n",
    "plt.xlabel('Number of Replicas')\n",
    "plt.ylabel('Latency (ms)')\n",
    "plt.title('Max difference between processes')\n",
    "\n",
    "plt.subplot(1,3, 2)\n",
    "res152_5_procs = df[\n",
    "    (df['model'] == 'mobilenet') & \n",
    "    (df['n_procs'] == 16) & \n",
    "    (df['approach'] == 'mps')][['duration_ms', 'proc']]\n",
    "grouped = res152_5_procs.groupby('proc')[['duration_ms']].rolling(20).mean().dropna().reset_index()\n",
    "grouped['level_1'] = grouped['level_1'].astype(int)\n",
    "sns.lineplot(x='level_1', y='duration_ms', hue='proc', data=grouped)\n",
    "plt.xlabel('Query IDs')\n",
    "plt.ylabel('Latency (ms)')\n",
    "plt.title('Example: 16 Processes')\n",
    "\n",
    "\n",
    "plt.subplot(1,3,3)\n",
    "res152_5_procs = df[\n",
    "    (df['model'] == 'mobilenet') & \n",
    "    (df['n_procs'] == 15) & \n",
    "    (df['approach'] == 'mps')][['duration_ms', 'proc']]\n",
    "grouped = res152_5_procs.groupby('proc')[['duration_ms']].rolling(20).mean().dropna().reset_index()\n",
    "grouped['level_1'] = grouped['level_1'].astype(int)\n",
    "sns.lineplot(x='level_1', y='duration_ms', hue='proc', data=grouped)\n",
    "plt.xlabel('Query IDs')\n",
    "plt.ylabel('Latency (ms)')\n",
    "plt.title('Example: 15 Processes')\n",
    "\n",
    "plt.savefig('anomoly.png', dpi=300)"
   ]
  },
  {
   "cell_type": "code",
   "execution_count": null,
   "metadata": {},
   "outputs": [],
   "source": []
  },
  {
   "cell_type": "code",
   "execution_count": null,
   "metadata": {},
   "outputs": [],
   "source": [
    "grouped.groupby('proc')['duration_ms'].mean().sort_values()"
   ]
  },
  {
   "cell_type": "code",
   "execution_count": null,
   "metadata": {},
   "outputs": [],
   "source": [
    "res152_5_procs"
   ]
  },
  {
   "cell_type": "code",
   "execution_count": null,
   "metadata": {},
   "outputs": [],
   "source": []
  },
  {
   "cell_type": "code",
   "execution_count": null,
   "metadata": {},
   "outputs": [],
   "source": [
    "for _, row in anomoly.iterrows():\n",
    "    print(f\"{row['approach']}-{row['model']}-{row['n_procs']}\")"
   ]
  },
  {
   "cell_type": "code",
   "execution_count": null,
   "metadata": {},
   "outputs": [],
   "source": [
    "len(anomoly)"
   ]
  },
  {
   "cell_type": "code",
   "execution_count": null,
   "metadata": {},
   "outputs": [],
   "source": []
  }
 ],
 "metadata": {
  "kernelspec": {
   "display_name": "Environment (conda_tensorflow_p36)",
   "language": "python",
   "name": "conda_tensorflow_p36"
  },
  "language_info": {
   "codemirror_mode": {
    "name": "ipython",
    "version": 3
   },
   "file_extension": ".py",
   "mimetype": "text/x-python",
   "name": "python",
   "nbconvert_exporter": "python",
   "pygments_lexer": "ipython3",
   "version": "3.6.0"
  }
 },
 "nbformat": 4,
 "nbformat_minor": 2
}
