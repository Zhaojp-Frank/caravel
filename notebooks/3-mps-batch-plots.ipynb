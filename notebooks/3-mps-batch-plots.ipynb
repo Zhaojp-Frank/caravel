{
 "cells": [
  {
   "cell_type": "code",
   "execution_count": null,
   "metadata": {},
   "outputs": [],
   "source": [
    "import numpy as np\n",
    "import pandas as pd\n",
    "import matplotlib.pyplot as plt\n",
    "%matplotlib inline\n",
    "\n",
    "import seaborn as sns\n",
    "sns.set(style='whitegrid', palette='muted', font='serif')"
   ]
  },
  {
   "cell_type": "code",
   "execution_count": null,
   "metadata": {},
   "outputs": [],
   "source": [
    "from glob import glob"
   ]
  },
  {
   "cell_type": "code",
   "execution_count": null,
   "metadata": {},
   "outputs": [],
   "source": [
    "dfs = []\n",
    "for fn in glob('learningsys-2018-gpu-mux/**/*.pq', recursive=True):\n",
    "    df = pd.read_parquet(fn)\n",
    "    _, _, approach, model, proc, i  = fn.split(\"/\")\n",
    "    df['approach'] = approach\n",
    "    df['model'] = model\n",
    "    df['n_procs'] = int(proc)\n",
    "    df['proc'] = i.split('.')[0]\n",
    "    dfs.append(df)\n",
    "df = pd.concat(dfs)"
   ]
  },
  {
   "cell_type": "code",
   "execution_count": null,
   "metadata": {},
   "outputs": [],
   "source": [
    "df = df[df['approach'].isin(['mps', 'mps-even', 'mps-even-times-2', 'batch'])]"
   ]
  },
  {
   "cell_type": "code",
   "execution_count": null,
   "metadata": {},
   "outputs": [],
   "source": [
    "def plot_line(ax, model_name, estimator):\n",
    "    sns.lineplot(\n",
    "        x='n_procs', \n",
    "        y='duration_ms', \n",
    "        hue='approach',\n",
    "        style='approach',\n",
    "        markers=True,\n",
    "        data=df[df['model'] == model_name], \n",
    "        estimator=estimator,\n",
    "        ci=None,\n",
    "        ax=ax\n",
    "    )"
   ]
  },
  {
   "cell_type": "code",
   "execution_count": null,
   "metadata": {},
   "outputs": [],
   "source": [
    "def plot_model(model_name):\n",
    "    fig, (ax_mean, ax_p99) = plt.subplots(1,2,sharey=True, figsize=(10,5))\n",
    "    plot_line(ax_mean, model_name, lambda s: np.mean(s))\n",
    "    plot_line(ax_p99, model_name, lambda s: np.percentile(s, 99))\n",
    "    ax_mean.set_xlabel(\"Number of Replica\")\n",
    "    ax_p99.set_xlabel(\"Number of Replica\")\n",
    "    ax_mean.set_ylabel(\"Latency (ms)\")\n",
    "    ax_mean.set_title(\"Mean Latency\")\n",
    "    ax_p99.set_title(\"P99 Latency\")\n",
    "    fig.suptitle(model_name)\n",
    "    fig.savefig(model_name+'.png')"
   ]
  },
  {
   "cell_type": "code",
   "execution_count": null,
   "metadata": {},
   "outputs": [],
   "source": [
    "plot_model('mobilenet')"
   ]
  },
  {
   "cell_type": "code",
   "execution_count": null,
   "metadata": {},
   "outputs": [],
   "source": [
    "plot_model('mobilenet-224')"
   ]
  },
  {
   "cell_type": "code",
   "execution_count": null,
   "metadata": {},
   "outputs": [],
   "source": [
    "plot_model('res50')"
   ]
  },
  {
   "cell_type": "code",
   "execution_count": null,
   "metadata": {},
   "outputs": [],
   "source": [
    "plot_model('res152')"
   ]
  },
  {
   "cell_type": "code",
   "execution_count": null,
   "metadata": {},
   "outputs": [],
   "source": []
  }
 ],
 "metadata": {
  "kernelspec": {
   "display_name": "Environment (conda_tensorflow_p36)",
   "language": "python",
   "name": "conda_tensorflow_p36"
  },
  "language_info": {
   "codemirror_mode": {
    "name": "ipython",
    "version": 3
   },
   "file_extension": ".py",
   "mimetype": "text/x-python",
   "name": "python",
   "nbconvert_exporter": "python",
   "pygments_lexer": "ipython3",
   "version": "3.6.0"
  }
 },
 "nbformat": 4,
 "nbformat_minor": 2
}
