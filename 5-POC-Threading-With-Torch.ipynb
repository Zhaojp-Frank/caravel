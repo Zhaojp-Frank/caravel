{
 "cells": [
  {
   "cell_type": "code",
   "execution_count": null,
   "metadata": {},
   "outputs": [],
   "source": [
    "%%timeit\n",
    "model(inp)"
   ]
  },
  {
   "cell_type": "code",
   "execution_count": null,
   "metadata": {},
   "outputs": [],
   "source": [
    "import torch\n",
    "import torchvision"
   ]
  },
  {
   "cell_type": "code",
   "execution_count": null,
   "metadata": {},
   "outputs": [],
   "source": [
    "import time"
   ]
  },
  {
   "cell_type": "code",
   "execution_count": null,
   "metadata": {},
   "outputs": [],
   "source": [
    "import numpy as np"
   ]
  },
  {
   "cell_type": "code",
   "execution_count": null,
   "metadata": {},
   "outputs": [],
   "source": [
    "torch.backends.cudnn.enabled = False"
   ]
  },
  {
   "cell_type": "code",
   "execution_count": null,
   "metadata": {},
   "outputs": [],
   "source": [
    "def profile_in_thread():\n",
    "    times = []\n",
    "    stream = torch.cuda.Stream()\n",
    "    with torch.cuda.stream(stream):\n",
    "        model = torchvision.models.resnet50().cuda()\n",
    "        inp = torch.randn(1,3,224,224).cuda()\n",
    "        torch.cuda.synchronize()\n",
    "        print(\"Model started\")\n",
    "        for i in range(100):\n",
    "            a = time.perf_counter()\n",
    "            with torch.no_grad():\n",
    "                model(inp)\n",
    "#             torch.cuda.synchronize()\n",
    "            b = time.perf_counter()\n",
    "            times.append((b-a)*1000)\n",
    "            print(i, (b-a)*1000)\n",
    "        print(\"Perf Done\")\n",
    "#     times = times[200:]\n",
    "    print(np.mean(times), np.percentile(times, 99), np.std(times))"
   ]
  },
  {
   "cell_type": "code",
   "execution_count": null,
   "metadata": {},
   "outputs": [],
   "source": [
    "import threading"
   ]
  },
  {
   "cell_type": "code",
   "execution_count": null,
   "metadata": {},
   "outputs": [],
   "source": [
    "ts = [threading.Thread(target=profile_in_thread) for _ in range(3)]\n",
    "[t.start() for t in ts]\n",
    "results = [t.join() for t in ts]"
   ]
  },
  {
   "cell_type": "code",
   "execution_count": null,
   "metadata": {},
   "outputs": [],
   "source": []
  }
 ],
 "metadata": {
  "kernelspec": {
   "display_name": "Python 3",
   "language": "python",
   "name": "python3"
  },
  "language_info": {
   "codemirror_mode": {
    "name": "ipython",
    "version": 3
   },
   "file_extension": ".py",
   "mimetype": "text/x-python",
   "name": "python",
   "nbconvert_exporter": "python",
   "pygments_lexer": "ipython3",
   "version": "3.6.5"
  }
 },
 "nbformat": 4,
 "nbformat_minor": 2
}
